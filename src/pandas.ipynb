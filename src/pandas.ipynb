{
 "cells": [
  {
   "cell_type": "code",
   "execution_count": 1,
   "metadata": {},
   "outputs": [
    {
     "name": "stdout",
     "output_type": "stream",
     "text": [
      "  Rang;Réseau;Station;Trafic;Correspondance_1;Correspondance_2;Correspondance_3;Correspondance_4;Correspondance_5;Ville;Arrondissement pour Paris\n",
      "0      6;Métro;BIBLIOTHEQUE;11104474;14;;;;;Paris;13                                                                                             \n",
      "1      10;Métro;CHATELET;8350794;1;4;7;11;14;Paris;1                                                                                             \n",
      "2  15;Métro;BOBIGNY-PABLO PICASSO;6561327;5;;;;;B...                                                                                             \n",
      "3  17;Métro;GARE D'AUSTERLITZ;6318543;5;10;;;;Par...                                                                                             \n",
      "4    21;Métro;HAVRE-CAUMARTIN;5894982;3;9;;;;Paris;9                                                                                             \n"
     ]
    }
   ],
   "source": [
    "import pandas as pd\n",
    "\n",
    "# Chargement des données\n",
    "df = pd.read_csv('trafic-annuel-entrant-par-station-du-reseau-ferre-2021.csv')\n",
    "\n",
    "# Afficher les premières lignes pour comprendre la structure des données\n",
    "print(df.head())\n"
   ]
  },
  {
   "cell_type": "code",
   "execution_count": null,
   "metadata": {},
   "outputs": [],
   "source": []
  }
 ],
 "metadata": {
  "kernelspec": {
   "display_name": "Python 3",
   "language": "python",
   "name": "python3"
  },
  "language_info": {
   "codemirror_mode": {
    "name": "ipython",
    "version": 3
   },
   "file_extension": ".py",
   "mimetype": "text/x-python",
   "name": "python",
   "nbconvert_exporter": "python",
   "pygments_lexer": "ipython3",
   "version": "3.12.4"
  }
 },
 "nbformat": 4,
 "nbformat_minor": 2
}
